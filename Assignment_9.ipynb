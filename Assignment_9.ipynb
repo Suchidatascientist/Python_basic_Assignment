{
 "cells": [
  {
   "cell_type": "code",
   "execution_count": null,
   "id": "75fc0b1d",
   "metadata": {},
   "outputs": [],
   "source": [
    "1. To what does a relative path refer?"
   ]
  },
  {
   "cell_type": "code",
   "execution_count": null,
   "id": "5261c455",
   "metadata": {},
   "outputs": [],
   "source": [
    "Relative paths are relative to the current working directory."
   ]
  },
  {
   "cell_type": "code",
   "execution_count": null,
   "id": "847c9b8d",
   "metadata": {},
   "outputs": [],
   "source": []
  },
  {
   "cell_type": "code",
   "execution_count": null,
   "id": "4643a8c0",
   "metadata": {},
   "outputs": [],
   "source": [
    "2. What does an absolute path start with your operating system?"
   ]
  },
  {
   "cell_type": "code",
   "execution_count": null,
   "id": "e8937d56",
   "metadata": {},
   "outputs": [],
   "source": [
    "It starts with the root folder, such as / or C:\\."
   ]
  },
  {
   "cell_type": "code",
   "execution_count": null,
   "id": "f6535f30",
   "metadata": {},
   "outputs": [],
   "source": []
  },
  {
   "cell_type": "code",
   "execution_count": null,
   "id": "796035f9",
   "metadata": {},
   "outputs": [],
   "source": [
    "3. What do the functions os.getcwd() and os.chdir() do?"
   ]
  },
  {
   "cell_type": "code",
   "execution_count": null,
   "id": "5ae7c49f",
   "metadata": {},
   "outputs": [],
   "source": [
    "os.getcwd() ---> returns the current working directory.\n",
    "os.chdir() ---> changes the current working directory."
   ]
  },
  {
   "cell_type": "code",
   "execution_count": null,
   "id": "9515db87",
   "metadata": {},
   "outputs": [],
   "source": []
  },
  {
   "cell_type": "code",
   "execution_count": null,
   "id": "bd0396b1",
   "metadata": {},
   "outputs": [],
   "source": [
    "4. What are the . and .. folders?"
   ]
  },
  {
   "cell_type": "code",
   "execution_count": null,
   "id": "1e09975f",
   "metadata": {},
   "outputs": [],
   "source": [
    ".  --->  is the current folder\n",
    ".. --->  is the parent folder."
   ]
  },
  {
   "cell_type": "code",
   "execution_count": null,
   "id": "5f45c09e",
   "metadata": {},
   "outputs": [],
   "source": []
  },
  {
   "cell_type": "code",
   "execution_count": null,
   "id": "c404c02e",
   "metadata": {},
   "outputs": [],
   "source": [
    "5. In C:\\bacon\\eggs\\spam.txt, which part is the dir name, and which part is the base name?"
   ]
  },
  {
   "cell_type": "code",
   "execution_count": null,
   "id": "d167d915",
   "metadata": {},
   "outputs": [],
   "source": [
    "C:\\bacon\\eggs is directory name and spam.txt is base name"
   ]
  },
  {
   "cell_type": "code",
   "execution_count": null,
   "id": "4dc00f1d",
   "metadata": {},
   "outputs": [],
   "source": []
  },
  {
   "cell_type": "code",
   "execution_count": null,
   "id": "809622aa",
   "metadata": {},
   "outputs": [],
   "source": [
    "6. What are the three “mode” arguments that can be passed to the open() function?"
   ]
  },
  {
   "cell_type": "code",
   "execution_count": null,
   "id": "a86c16a5",
   "metadata": {},
   "outputs": [],
   "source": [
    "The string 'r' for read mode, 'w' for write mode, and 'a' for append mode"
   ]
  },
  {
   "cell_type": "code",
   "execution_count": null,
   "id": "8b1aa089",
   "metadata": {},
   "outputs": [],
   "source": []
  },
  {
   "cell_type": "code",
   "execution_count": null,
   "id": "7f152620",
   "metadata": {},
   "outputs": [],
   "source": [
    "7. What happens if an existing file is opened in write mode?"
   ]
  },
  {
   "cell_type": "code",
   "execution_count": null,
   "id": "3688af37",
   "metadata": {},
   "outputs": [],
   "source": [
    "An existing file will be erased and completely overwritten."
   ]
  },
  {
   "cell_type": "code",
   "execution_count": null,
   "id": "149f709f",
   "metadata": {},
   "outputs": [],
   "source": []
  },
  {
   "cell_type": "code",
   "execution_count": null,
   "id": "d2efc6fc",
   "metadata": {},
   "outputs": [],
   "source": [
    "8. How do you tell the difference between read() and readlines()?"
   ]
  },
  {
   "cell_type": "code",
   "execution_count": null,
   "id": "28b0e586",
   "metadata": {},
   "outputs": [],
   "source": [
    "The read() method returns the file's entire contents as a single string value. The readlines() method returns a list of strings, where each string is a line from the file's contents."
   ]
  },
  {
   "cell_type": "code",
   "execution_count": null,
   "id": "35e36571",
   "metadata": {},
   "outputs": [],
   "source": []
  },
  {
   "cell_type": "code",
   "execution_count": null,
   "id": "d0ecbd80",
   "metadata": {},
   "outputs": [],
   "source": [
    "9. What data structure does a shelf value resemble?"
   ]
  },
  {
   "cell_type": "code",
   "execution_count": null,
   "id": "533fd146",
   "metadata": {},
   "outputs": [],
   "source": [
    "A shelf value resembles a dictionary value; it has keys and values, "
   ]
  },
  {
   "cell_type": "code",
   "execution_count": null,
   "id": "fa135e90",
   "metadata": {},
   "outputs": [],
   "source": []
  }
 ],
 "metadata": {
  "kernelspec": {
   "display_name": "Python 3 (ipykernel)",
   "language": "python",
   "name": "python3"
  },
  "language_info": {
   "codemirror_mode": {
    "name": "ipython",
    "version": 3
   },
   "file_extension": ".py",
   "mimetype": "text/x-python",
   "name": "python",
   "nbconvert_exporter": "python",
   "pygments_lexer": "ipython3",
   "version": "3.9.7"
  }
 },
 "nbformat": 4,
 "nbformat_minor": 5
}

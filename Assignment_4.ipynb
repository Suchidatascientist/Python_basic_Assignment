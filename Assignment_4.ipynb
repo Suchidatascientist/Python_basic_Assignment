{
 "cells": [
  {
   "cell_type": "markdown",
   "id": "ef4347fa",
   "metadata": {},
   "source": [
    "1. What exactly is []?"
   ]
  },
  {
   "cell_type": "code",
   "execution_count": null,
   "id": "84fbcbae",
   "metadata": {},
   "outputs": [],
   "source": [
    "this is empty numeric array to indicate that input argument is undefined which allows further input arguments to be specified"
   ]
  },
  {
   "cell_type": "code",
   "execution_count": null,
   "id": "b785575e",
   "metadata": {},
   "outputs": [],
   "source": []
  },
  {
   "cell_type": "markdown",
   "id": "9d3f4bc9",
   "metadata": {},
   "source": [
    "2. In a list of values stored in a variable called spam, how would you assign the value 'hello' as the third value? (Assume [2, 4, 6, 8, 10] are in spam.)\n",
    "Let's pretend the spam includes the list ['a', 'b', 'c', 'd'] for the next three queries."
   ]
  },
  {
   "cell_type": "code",
   "execution_count": null,
   "id": "7b6cb5ad",
   "metadata": {},
   "outputs": [],
   "source": [
    "spam[3]='hello'"
   ]
  },
  {
   "cell_type": "code",
   "execution_count": null,
   "id": "fba0a2f3",
   "metadata": {},
   "outputs": [],
   "source": []
  },
  {
   "cell_type": "markdown",
   "id": "1c334f95",
   "metadata": {},
   "source": [
    "3. What is the value of spam[int(int('3' * 2) / 11)]?"
   ]
  },
  {
   "cell_type": "code",
   "execution_count": null,
   "id": "3b492487",
   "metadata": {},
   "outputs": [],
   "source": [
    "8"
   ]
  },
  {
   "cell_type": "code",
   "execution_count": null,
   "id": "082f2ac3",
   "metadata": {},
   "outputs": [],
   "source": []
  },
  {
   "cell_type": "markdown",
   "id": "f98a5cf9",
   "metadata": {},
   "source": [
    "4. What is the value of spam[-1]?"
   ]
  },
  {
   "cell_type": "code",
   "execution_count": null,
   "id": "9b1c6fe5",
   "metadata": {},
   "outputs": [],
   "source": [
    "10"
   ]
  },
  {
   "cell_type": "code",
   "execution_count": null,
   "id": "20293aa5",
   "metadata": {},
   "outputs": [],
   "source": []
  },
  {
   "cell_type": "markdown",
   "id": "4e116fc8",
   "metadata": {},
   "source": [
    "5. What is the value of spam[:2]?"
   ]
  },
  {
   "cell_type": "code",
   "execution_count": null,
   "id": "50329238",
   "metadata": {},
   "outputs": [],
   "source": [
    "[2, 4]"
   ]
  },
  {
   "cell_type": "code",
   "execution_count": null,
   "id": "6c85f0bf",
   "metadata": {},
   "outputs": [],
   "source": []
  },
  {
   "cell_type": "markdown",
   "id": "f6aeb9c4",
   "metadata": {},
   "source": [
    "Let's pretend bacon has the list [3.14, 'cat,' 11, 'cat,' True] for the next three questions.\n",
    "6. What is the value of bacon.index('cat')?"
   ]
  },
  {
   "cell_type": "code",
   "execution_count": null,
   "id": "be05a536",
   "metadata": {},
   "outputs": [],
   "source": [
    "#value of #value of is\n",
    "\n",
    "1"
   ]
  },
  {
   "cell_type": "code",
   "execution_count": null,
   "id": "ad56f4cb",
   "metadata": {},
   "outputs": [],
   "source": []
  },
  {
   "cell_type": "markdown",
   "id": "cf260057",
   "metadata": {},
   "source": [
    "7. How does bacon.append(99) change the look of the list value in bacon?"
   ]
  },
  {
   "cell_type": "code",
   "execution_count": null,
   "id": "2bc6c8c7",
   "metadata": {},
   "outputs": [],
   "source": [
    "#value 99 will be append at end of list\n",
    "[3.14, 'cat', 11, 'cat', True, 99]"
   ]
  },
  {
   "cell_type": "code",
   "execution_count": null,
   "id": "81b2743a",
   "metadata": {},
   "outputs": [],
   "source": []
  },
  {
   "cell_type": "markdown",
   "id": "6d75547f",
   "metadata": {},
   "source": [
    "8. How does bacon.remove('cat') change the look of the list in bacon?"
   ]
  },
  {
   "cell_type": "code",
   "execution_count": null,
   "id": "35834bda",
   "metadata": {},
   "outputs": [],
   "source": [
    "[3.14, 11, 'cat', True]\n",
    "[3.14, 11, True]"
   ]
  },
  {
   "cell_type": "code",
   "execution_count": null,
   "id": "dbf2563b",
   "metadata": {},
   "outputs": [],
   "source": []
  },
  {
   "cell_type": "markdown",
   "id": "a1106bc8",
   "metadata": {},
   "source": [
    "9. What are the list concatenation and list replication operators?"
   ]
  },
  {
   "cell_type": "code",
   "execution_count": null,
   "id": "9d327a9c",
   "metadata": {
    "scrolled": true
   },
   "outputs": [],
   "source": [
    "Operator for list concatenation is '+'and for replication it is '*'"
   ]
  },
  {
   "cell_type": "code",
   "execution_count": null,
   "id": "9afa9901",
   "metadata": {},
   "outputs": [],
   "source": []
  },
  {
   "cell_type": "markdown",
   "id": "bf721aa1",
   "metadata": {},
   "source": [
    "10. What is difference between the list methods append() and insert()?"
   ]
  },
  {
   "cell_type": "code",
   "execution_count": null,
   "id": "63c91030",
   "metadata": {},
   "outputs": [],
   "source": [
    "append method --- > adds the single item at the end of existing list\n",
    "insert method --- > allows us to add a specific element at specific index of list"
   ]
  },
  {
   "cell_type": "code",
   "execution_count": null,
   "id": "c08dfb07",
   "metadata": {},
   "outputs": [],
   "source": []
  },
  {
   "cell_type": "markdown",
   "id": "3364fdaf",
   "metadata": {},
   "source": [
    "11. What are the two methods for removing items from a list?"
   ]
  },
  {
   "cell_type": "code",
   "execution_count": null,
   "id": "88309745",
   "metadata": {},
   "outputs": [],
   "source": [
    "pop and remove"
   ]
  },
  {
   "cell_type": "code",
   "execution_count": null,
   "id": "c2b6cbf4",
   "metadata": {},
   "outputs": [],
   "source": []
  },
  {
   "cell_type": "markdown",
   "id": "565aabb9",
   "metadata": {},
   "source": [
    "12. Describe how list values and string values are identical."
   ]
  },
  {
   "cell_type": "code",
   "execution_count": null,
   "id": "ad5bcf58",
   "metadata": {},
   "outputs": [],
   "source": [
    "both are ordered collection of characters"
   ]
  },
  {
   "cell_type": "code",
   "execution_count": null,
   "id": "65667b1e",
   "metadata": {},
   "outputs": [],
   "source": []
  },
  {
   "cell_type": "markdown",
   "id": "5829f819",
   "metadata": {},
   "source": [
    "13. What's the difference between tuples and lists?"
   ]
  },
  {
   "cell_type": "code",
   "execution_count": null,
   "id": "41daf114",
   "metadata": {},
   "outputs": [],
   "source": [
    "list are mutable while tuples are immutable "
   ]
  },
  {
   "cell_type": "code",
   "execution_count": null,
   "id": "7bf17d65",
   "metadata": {},
   "outputs": [],
   "source": []
  },
  {
   "cell_type": "markdown",
   "id": "96c5c4ab",
   "metadata": {},
   "source": [
    "14. How do you type a tuple value that only contains the integer 42?"
   ]
  },
  {
   "cell_type": "code",
   "execution_count": null,
   "id": "b6f7719f",
   "metadata": {},
   "outputs": [],
   "source": [
    "t=(42,)"
   ]
  },
  {
   "cell_type": "code",
   "execution_count": null,
   "id": "eec8b322",
   "metadata": {},
   "outputs": [],
   "source": []
  },
  {
   "cell_type": "markdown",
   "id": "0a1d524a",
   "metadata": {},
   "source": [
    "15. How do you get a list value's tuple form? How do you get a tuple value's list form?"
   ]
  },
  {
   "cell_type": "code",
   "execution_count": null,
   "id": "4bdeddde",
   "metadata": {},
   "outputs": [],
   "source": [
    "list value's tuple form -----> tuple(list)\n",
    "tuple value's list form -----> \n",
    "lst=[]\n",
    "for t in tuple:\n",
    "    for i in t:\n",
    "        lst.append(i)\n",
    "print (lst)"
   ]
  },
  {
   "cell_type": "code",
   "execution_count": null,
   "id": "49877667",
   "metadata": {},
   "outputs": [],
   "source": []
  },
  {
   "cell_type": "markdown",
   "id": "5874b445",
   "metadata": {},
   "source": [
    "# 16. Variables that \"contain\" list values are not necessarily lists themselves. Instead, what do they contain?"
   ]
  },
  {
   "cell_type": "code",
   "execution_count": null,
   "id": "c8c2ee13",
   "metadata": {},
   "outputs": [],
   "source": []
  },
  {
   "cell_type": "code",
   "execution_count": null,
   "id": "2b99a756",
   "metadata": {},
   "outputs": [],
   "source": []
  },
  {
   "cell_type": "markdown",
   "id": "fd113bce",
   "metadata": {},
   "source": [
    "17. How do you distinguish between copy.copy() and copy.deepcopy()?"
   ]
  },
  {
   "cell_type": "code",
   "execution_count": null,
   "id": "98bd4f39",
   "metadata": {},
   "outputs": [],
   "source": [
    "Shallow copy constructs new compound object and then inserts references to the object found in original,Deep copy constructs new compound object and then recursively inserts copies into it of  the object found in original\n",
    "\n",
    "For shallow copy if any changes made to copy of object do  reflect in original object but in deep copy if changes made in copy of object do not reflect in original object"
   ]
  },
  {
   "cell_type": "code",
   "execution_count": null,
   "id": "e48e4ead",
   "metadata": {},
   "outputs": [],
   "source": []
  }
 ],
 "metadata": {
  "kernelspec": {
   "display_name": "Python 3 (ipykernel)",
   "language": "python",
   "name": "python3"
  },
  "language_info": {
   "codemirror_mode": {
    "name": "ipython",
    "version": 3
   },
   "file_extension": ".py",
   "mimetype": "text/x-python",
   "name": "python",
   "nbconvert_exporter": "python",
   "pygments_lexer": "ipython3",
   "version": "3.9.7"
  }
 },
 "nbformat": 4,
 "nbformat_minor": 5
}

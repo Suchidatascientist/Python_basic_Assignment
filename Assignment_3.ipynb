{
 "cells": [
  {
   "cell_type": "markdown",
   "id": "b60fa0c8",
   "metadata": {},
   "source": [
    "1. Why are functions advantageous to have in your programs?"
   ]
  },
  {
   "cell_type": "code",
   "execution_count": null,
   "id": "81e13911",
   "metadata": {},
   "outputs": [],
   "source": [
    "reduces duplication of code\n",
    "we can reuse code\n",
    "enhances readability of program\n",
    "Function keeps program organised"
   ]
  },
  {
   "cell_type": "code",
   "execution_count": null,
   "id": "622c87ea",
   "metadata": {},
   "outputs": [],
   "source": []
  },
  {
   "cell_type": "markdown",
   "id": "2d4009d6",
   "metadata": {},
   "source": [
    "2. When does the code in a function run? when it's specified or when it's called?"
   ]
  },
  {
   "cell_type": "code",
   "execution_count": null,
   "id": "3dcced16",
   "metadata": {},
   "outputs": [],
   "source": [
    "Code in functions run when it function is called"
   ]
  },
  {
   "cell_type": "code",
   "execution_count": null,
   "id": "040f3097",
   "metadata": {},
   "outputs": [],
   "source": []
  },
  {
   "cell_type": "markdown",
   "id": "bac35d75",
   "metadata": {},
   "source": [
    "3. What statement creates a function?"
   ]
  },
  {
   "cell_type": "code",
   "execution_count": null,
   "id": "a9e8278f",
   "metadata": {},
   "outputs": [],
   "source": [
    "\"def\"keyword statement defines function"
   ]
  },
  {
   "cell_type": "code",
   "execution_count": null,
   "id": "62c4ca35",
   "metadata": {},
   "outputs": [],
   "source": []
  },
  {
   "cell_type": "markdown",
   "id": "a5ebc401",
   "metadata": {},
   "source": [
    "4. What is the difference between a function and a function call?"
   ]
  },
  {
   "cell_type": "code",
   "execution_count": null,
   "id": "cb272292",
   "metadata": {},
   "outputs": [],
   "source": [
    "function is procedure to achieve specific result and function call is using function to achive that task"
   ]
  },
  {
   "cell_type": "code",
   "execution_count": null,
   "id": "52a3c226",
   "metadata": {},
   "outputs": [],
   "source": []
  },
  {
   "cell_type": "markdown",
   "id": "2eac280d",
   "metadata": {},
   "source": [
    "# 5. How many global scopes are there in a Python program? How many local scopes?"
   ]
  },
  {
   "cell_type": "code",
   "execution_count": null,
   "id": "d027941c",
   "metadata": {},
   "outputs": [],
   "source": []
  },
  {
   "cell_type": "markdown",
   "id": "f05134d2",
   "metadata": {},
   "source": [
    "6. What happens to variables in a local scope when the function call returns?"
   ]
  },
  {
   "cell_type": "code",
   "execution_count": null,
   "id": "ca5a0ed7",
   "metadata": {},
   "outputs": [],
   "source": [
    "variable in local scope will disappear  after function returns"
   ]
  },
  {
   "cell_type": "code",
   "execution_count": null,
   "id": "885d384b",
   "metadata": {},
   "outputs": [],
   "source": []
  },
  {
   "cell_type": "markdown",
   "id": "8fe47138",
   "metadata": {},
   "source": [
    "7. What is the concept of a return value? Is it possible to have a return value in an expression?"
   ]
  },
  {
   "cell_type": "code",
   "execution_count": null,
   "id": "8a7df4eb",
   "metadata": {},
   "outputs": [],
   "source": [
    "return value used to end the execution of function call and returns result.Can have return value in expression"
   ]
  },
  {
   "cell_type": "code",
   "execution_count": null,
   "id": "bd9241e9",
   "metadata": {},
   "outputs": [],
   "source": []
  },
  {
   "cell_type": "markdown",
   "id": "bb2d7ab4",
   "metadata": {},
   "source": [
    "8. If a function does not have a return statement, what is the return value of a call to that function?"
   ]
  },
  {
   "cell_type": "code",
   "execution_count": null,
   "id": "6cad066f",
   "metadata": {},
   "outputs": [],
   "source": [
    "none"
   ]
  },
  {
   "cell_type": "code",
   "execution_count": null,
   "id": "361a8423",
   "metadata": {},
   "outputs": [],
   "source": []
  },
  {
   "cell_type": "markdown",
   "id": "863e7726",
   "metadata": {},
   "source": [
    "9. How do you make a function variable refer to the global variable?"
   ]
  },
  {
   "cell_type": "code",
   "execution_count": null,
   "id": "77308eb4",
   "metadata": {},
   "outputs": [],
   "source": [
    "variable that are only referenced inside function are global variable"
   ]
  },
  {
   "cell_type": "code",
   "execution_count": null,
   "id": "b9f5b9cd",
   "metadata": {},
   "outputs": [],
   "source": []
  },
  {
   "cell_type": "markdown",
   "id": "67d1aa73",
   "metadata": {},
   "source": [
    "10. What is the data type of None?"
   ]
  },
  {
   "cell_type": "code",
   "execution_count": null,
   "id": "33237f44",
   "metadata": {},
   "outputs": [],
   "source": [
    "data type of None is \"Nonetype\""
   ]
  },
  {
   "cell_type": "code",
   "execution_count": null,
   "id": "3f612d37",
   "metadata": {},
   "outputs": [],
   "source": []
  },
  {
   "cell_type": "markdown",
   "id": "8e075a31",
   "metadata": {},
   "source": [
    "11. What does the sentence import areallyourpetsnamederic do?"
   ]
  },
  {
   "cell_type": "code",
   "execution_count": null,
   "id": "a1cbca7b",
   "metadata": {},
   "outputs": [],
   "source": [
    "it will imports the module named \"areallyourpetsnamederic\""
   ]
  },
  {
   "cell_type": "code",
   "execution_count": null,
   "id": "468552f6",
   "metadata": {},
   "outputs": [],
   "source": []
  },
  {
   "cell_type": "markdown",
   "id": "43eaf5fd",
   "metadata": {},
   "source": [
    "12. If you had a bacon() feature in a spam module, what would you call it after importing spam?"
   ]
  },
  {
   "cell_type": "code",
   "execution_count": null,
   "id": "bffd8571",
   "metadata": {},
   "outputs": [],
   "source": [
    "from spam import bacon"
   ]
  },
  {
   "cell_type": "code",
   "execution_count": null,
   "id": "d22efef6",
   "metadata": {},
   "outputs": [],
   "source": []
  },
  {
   "cell_type": "markdown",
   "id": "a5bc9a74",
   "metadata": {},
   "source": [
    "13. What can you do to save a programme from crashing if it encounters an error?"
   ]
  },
  {
   "cell_type": "code",
   "execution_count": null,
   "id": "2d05f5c8",
   "metadata": {},
   "outputs": [],
   "source": [
    "we can use logging beacuse of which if anything goes wrong we can determine the cause of problem"
   ]
  },
  {
   "cell_type": "code",
   "execution_count": null,
   "id": "01d0dc09",
   "metadata": {},
   "outputs": [],
   "source": []
  },
  {
   "cell_type": "markdown",
   "id": "7ff37530",
   "metadata": {},
   "source": [
    "14. What is the purpose of the try clause? What is the purpose of the except clause"
   ]
  },
  {
   "cell_type": "code",
   "execution_count": null,
   "id": "890be24a",
   "metadata": {},
   "outputs": [],
   "source": [
    "try ----> we can use to handle errors gracefully\n",
    "except ---> used to test code for errors which is written in try statement"
   ]
  }
 ],
 "metadata": {
  "kernelspec": {
   "display_name": "Python 3 (ipykernel)",
   "language": "python",
   "name": "python3"
  },
  "language_info": {
   "codemirror_mode": {
    "name": "ipython",
    "version": 3
   },
   "file_extension": ".py",
   "mimetype": "text/x-python",
   "name": "python",
   "nbconvert_exporter": "python",
   "pygments_lexer": "ipython3",
   "version": "3.9.7"
  }
 },
 "nbformat": 4,
 "nbformat_minor": 5
}

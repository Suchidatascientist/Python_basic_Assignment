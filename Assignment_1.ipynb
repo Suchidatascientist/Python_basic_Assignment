{
 "cells": [
  {
   "cell_type": "markdown",
   "id": "e2436186",
   "metadata": {},
   "source": [
    "1. In the below elements which of them are values or an expression? eg:- values can be integer or string and expressions will be mathematical operators.\n",
    "* \n",
    "'hello'\n",
    "-87.8\n",
    "- \n",
    "/ \n",
    "+\t\n",
    "6 "
   ]
  },
  {
   "cell_type": "code",
   "execution_count": null,
   "id": "5c8be97a",
   "metadata": {},
   "outputs": [],
   "source": [
    "*  ---- expression\n",
    "'hello'---- values\n",
    "-87.8 ---- values\n",
    "-  ---- expression\n",
    "/  ---- expression\n",
    "+\t ---- expression\n",
    "6 ---- values"
   ]
  },
  {
   "cell_type": "code",
   "execution_count": null,
   "id": "1b93cea6",
   "metadata": {},
   "outputs": [],
   "source": []
  },
  {
   "cell_type": "markdown",
   "id": "7833b726",
   "metadata": {},
   "source": [
    "2. What is the difference between string and variable?"
   ]
  },
  {
   "cell_type": "code",
   "execution_count": null,
   "id": "1f84443f",
   "metadata": {},
   "outputs": [],
   "source": [
    "Varible starts with letter or the underscore and string starts with single/double quotes\n",
    "Variable are mutable and strings are immutable\n",
    "Variable is reserved memory location and string is collection of alphabets,words & character\n"
   ]
  },
  {
   "cell_type": "code",
   "execution_count": null,
   "id": "c8a9809b",
   "metadata": {},
   "outputs": [],
   "source": []
  },
  {
   "cell_type": "markdown",
   "id": "d1398277",
   "metadata": {},
   "source": [
    "3. Describe three different data types."
   ]
  },
  {
   "cell_type": "code",
   "execution_count": null,
   "id": "0b52ac42",
   "metadata": {},
   "outputs": [],
   "source": [
    "boolean - Data type with True and False built-in values\n",
    "Set - It is unordered collection of data type which is iterable ,mutable and has no duplicate records \n",
    "Integer - It is collection of positive or negative whole number without fraction or decimal point"
   ]
  },
  {
   "cell_type": "code",
   "execution_count": null,
   "id": "229a649c",
   "metadata": {},
   "outputs": [],
   "source": []
  },
  {
   "cell_type": "markdown",
   "id": "adadbf36",
   "metadata": {},
   "source": [
    "4. What is an expression made up of? What do all expressions do?"
   ]
  },
  {
   "cell_type": "raw",
   "id": "265f5db6",
   "metadata": {},
   "source": [
    "An expression is combination of operator and operand\n",
    "It is interpreted to produce some other values"
   ]
  },
  {
   "cell_type": "code",
   "execution_count": null,
   "id": "8bf1bfdb",
   "metadata": {},
   "outputs": [],
   "source": []
  },
  {
   "cell_type": "markdown",
   "id": "3792b9eb",
   "metadata": {},
   "source": [
    "5. This assignment statements, like spam = 10. What is the difference between an expression and a statement?"
   ]
  },
  {
   "cell_type": "code",
   "execution_count": null,
   "id": "5635995d",
   "metadata": {},
   "outputs": [],
   "source": [
    "Expression returns or produces result value.\n",
    "Statement may or may not produces result value but it will does what statement says"
   ]
  },
  {
   "cell_type": "code",
   "execution_count": null,
   "id": "bc38f174",
   "metadata": {},
   "outputs": [],
   "source": []
  },
  {
   "cell_type": "markdown",
   "id": "203dce1f",
   "metadata": {},
   "source": [
    "6. After running the following code, what does the variable bacon contain?\n",
    "bacon = 22\n",
    "bacon + 1"
   ]
  },
  {
   "cell_type": "code",
   "execution_count": null,
   "id": "7130ffbe",
   "metadata": {},
   "outputs": [],
   "source": [
    "result value as 23"
   ]
  },
  {
   "cell_type": "code",
   "execution_count": null,
   "id": "05500bae",
   "metadata": {},
   "outputs": [],
   "source": []
  },
  {
   "cell_type": "markdown",
   "id": "f7c29882",
   "metadata": {},
   "source": [
    "7. What should the values of the following two terms be?\n",
    "'spam' + 'spamspam'\n",
    "'spam' * 3"
   ]
  },
  {
   "cell_type": "code",
   "execution_count": null,
   "id": "30fcb11d",
   "metadata": {},
   "outputs": [],
   "source": [
    "'spam' + 'spamspam' ---> spamspamspam\n",
    "'spam' * 3 ---> spamspamspam"
   ]
  },
  {
   "cell_type": "code",
   "execution_count": null,
   "id": "42a8971b",
   "metadata": {},
   "outputs": [],
   "source": []
  },
  {
   "cell_type": "markdown",
   "id": "13e8f3e8",
   "metadata": {},
   "source": [
    "8. Why is eggs a valid variable name while 100 is invalid?"
   ]
  },
  {
   "cell_type": "code",
   "execution_count": null,
   "id": "0e47e861",
   "metadata": {},
   "outputs": [],
   "source": [
    "Variable always starts with alphabet or underscore but never starts with number hence in above statement \"eggs\" is valid varible"
   ]
  },
  {
   "cell_type": "code",
   "execution_count": null,
   "id": "02a815ba",
   "metadata": {},
   "outputs": [],
   "source": []
  },
  {
   "cell_type": "markdown",
   "id": "75af0ed1",
   "metadata": {},
   "source": [
    "9. What three functions can be used to get the integer, floating-point number, or string version of a value?"
   ]
  },
  {
   "cell_type": "code",
   "execution_count": null,
   "id": "59e781be",
   "metadata": {},
   "outputs": [],
   "source": [
    "int()  ---> Iteger\n",
    "float()  ---> Floating point number\n",
    "str()  ---> String"
   ]
  },
  {
   "cell_type": "code",
   "execution_count": null,
   "id": "23793b84",
   "metadata": {},
   "outputs": [],
   "source": []
  },
  {
   "cell_type": "markdown",
   "id": "98d6553a",
   "metadata": {},
   "source": [
    "10. Why does this expression cause an error? How can you fix it?\n",
    "'I have eaten ' + 99 + ' burritos.'"
   ]
  },
  {
   "cell_type": "code",
   "execution_count": null,
   "id": "ff4cbd22",
   "metadata": {},
   "outputs": [],
   "source": [
    "String can only concatenate with string so by placing integer 99 in quoates we can fix it\n",
    "'I have eaten ' + '99' + ' burritos.'"
   ]
  }
 ],
 "metadata": {
  "kernelspec": {
   "display_name": "Python 3 (ipykernel)",
   "language": "python",
   "name": "python3"
  },
  "language_info": {
   "codemirror_mode": {
    "name": "ipython",
    "version": 3
   },
   "file_extension": ".py",
   "mimetype": "text/x-python",
   "name": "python",
   "nbconvert_exporter": "python",
   "pygments_lexer": "ipython3",
   "version": "3.9.7"
  }
 },
 "nbformat": 4,
 "nbformat_minor": 5
}

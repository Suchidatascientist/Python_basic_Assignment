{
 "cells": [
  {
   "cell_type": "code",
   "execution_count": null,
   "id": "eeaed7fc",
   "metadata": {},
   "outputs": [],
   "source": [
    "1. What is the name of the feature responsible for generating Regex objects?"
   ]
  },
  {
   "cell_type": "code",
   "execution_count": null,
   "id": "f876ce2d",
   "metadata": {},
   "outputs": [],
   "source": [
    "re. compile() function returns Regex objects."
   ]
  },
  {
   "cell_type": "code",
   "execution_count": null,
   "id": "4687f77b",
   "metadata": {},
   "outputs": [],
   "source": []
  },
  {
   "cell_type": "code",
   "execution_count": null,
   "id": "02dd54a7",
   "metadata": {},
   "outputs": [],
   "source": [
    "2. Why do raw strings often appear in Regex objects?"
   ]
  },
  {
   "cell_type": "code",
   "execution_count": null,
   "id": "e7a8ac85",
   "metadata": {},
   "outputs": [],
   "source": [
    "Raw strings are used so that backslashes do not have to be escaped."
   ]
  },
  {
   "cell_type": "code",
   "execution_count": null,
   "id": "1c9ebe47",
   "metadata": {},
   "outputs": [],
   "source": []
  },
  {
   "cell_type": "code",
   "execution_count": null,
   "id": "ca8c6744",
   "metadata": {},
   "outputs": [],
   "source": [
    "3. What is the return value of the search() method?"
   ]
  },
  {
   "cell_type": "code",
   "execution_count": null,
   "id": "be7481d9",
   "metadata": {},
   "outputs": [],
   "source": [
    "The re.search function returns a Match object. If the match fails, the re.search function will return None."
   ]
  },
  {
   "cell_type": "code",
   "execution_count": null,
   "id": "74c9afb6",
   "metadata": {},
   "outputs": [],
   "source": []
  },
  {
   "cell_type": "code",
   "execution_count": null,
   "id": "c012469f",
   "metadata": {},
   "outputs": [],
   "source": [
    "4. From a Match item, how do you get the actual strings that match the pattern?"
   ]
  },
  {
   "cell_type": "code",
   "execution_count": null,
   "id": "f0d631c3",
   "metadata": {},
   "outputs": [],
   "source": [
    "The group() method returns strings of the matched text."
   ]
  },
  {
   "cell_type": "code",
   "execution_count": null,
   "id": "90a29b33",
   "metadata": {},
   "outputs": [],
   "source": []
  },
  {
   "cell_type": "code",
   "execution_count": null,
   "id": "22959322",
   "metadata": {},
   "outputs": [],
   "source": [
    "5. In the regex which created from the r'(\\d\\d\\d)-(\\d\\d\\d-\\d\\d\\d\\d)', what does group zero cover? Group 2? Group 1?"
   ]
  },
  {
   "cell_type": "code",
   "execution_count": null,
   "id": "aa7f67b1",
   "metadata": {},
   "outputs": [],
   "source": [
    "Group 0 is the entire match, group 1 covers the first set of parentheses, and group 2 covers the second set of parentheses."
   ]
  },
  {
   "cell_type": "code",
   "execution_count": null,
   "id": "eee5b4c7",
   "metadata": {},
   "outputs": [],
   "source": []
  },
  {
   "cell_type": "code",
   "execution_count": null,
   "id": "60a01226",
   "metadata": {},
   "outputs": [],
   "source": [
    "6. In standard expression syntax, parentheses and intervals have distinct meanings. How can you tell a regex that you want it to fit real parentheses and periods?"
   ]
  },
  {
   "cell_type": "code",
   "execution_count": null,
   "id": "f767bb00",
   "metadata": {},
   "outputs": [],
   "source": [
    "Periods and parentheses can be escaped with a backslash: \\., \\(, and \\)."
   ]
  },
  {
   "cell_type": "code",
   "execution_count": null,
   "id": "db21f39a",
   "metadata": {},
   "outputs": [],
   "source": []
  },
  {
   "cell_type": "code",
   "execution_count": null,
   "id": "0ca704fb",
   "metadata": {},
   "outputs": [],
   "source": [
    "7. The findall() method returns a string list or a list of string tuples. What causes it to return one of the two options?"
   ]
  },
  {
   "cell_type": "code",
   "execution_count": null,
   "id": "4eae5a75",
   "metadata": {},
   "outputs": [],
   "source": [
    "If the regex has no groups, a list of strings is returned. If the regex has groups, a list of tuples of strings is returned."
   ]
  },
  {
   "cell_type": "code",
   "execution_count": null,
   "id": "3414521b",
   "metadata": {},
   "outputs": [],
   "source": []
  },
  {
   "cell_type": "code",
   "execution_count": null,
   "id": "df4a17c3",
   "metadata": {},
   "outputs": [],
   "source": [
    "8. In standard expressions, what does the | character mean?"
   ]
  },
  {
   "cell_type": "code",
   "execution_count": null,
   "id": "bb072498",
   "metadata": {},
   "outputs": [],
   "source": [
    "The | character signifies matching \"either, or\" between two groups."
   ]
  },
  {
   "cell_type": "code",
   "execution_count": null,
   "id": "d877a9c3",
   "metadata": {},
   "outputs": [],
   "source": []
  },
  {
   "cell_type": "code",
   "execution_count": null,
   "id": "3f201c73",
   "metadata": {},
   "outputs": [],
   "source": [
    "9. In regular expressions, what does the character stand for?"
   ]
  },
  {
   "cell_type": "code",
   "execution_count": null,
   "id": "b9f1e772",
   "metadata": {},
   "outputs": [],
   "source": [
    "which specifies a search pattern in text"
   ]
  },
  {
   "cell_type": "code",
   "execution_count": null,
   "id": "bdd3f76c",
   "metadata": {},
   "outputs": [],
   "source": []
  },
  {
   "cell_type": "code",
   "execution_count": null,
   "id": "6bd4756f",
   "metadata": {},
   "outputs": [],
   "source": [
    "10.In regular expressions, what is the difference between the + and * characters?"
   ]
  },
  {
   "cell_type": "code",
   "execution_count": null,
   "id": "3480286b",
   "metadata": {},
   "outputs": [],
   "source": [
    "* -- > to match the preceding character (or set of characters) for 0 or more times\n",
    "+ -- >to repeat the preceding character (or set of characters) for atleast one or more times"
   ]
  },
  {
   "cell_type": "code",
   "execution_count": null,
   "id": "0eabf017",
   "metadata": {},
   "outputs": [],
   "source": []
  },
  {
   "cell_type": "code",
   "execution_count": null,
   "id": "ed4321f0",
   "metadata": {},
   "outputs": [],
   "source": [
    "11. What is the difference between {4} and {4,5} in regular expression?"
   ]
  },
  {
   "cell_type": "code",
   "execution_count": null,
   "id": "6627f17c",
   "metadata": {},
   "outputs": [],
   "source": [
    "{4} -- > means that the preceding character is to be repeated 4 times,\n",
    "{4,5} -- > means that the preceding character is repeated at least 4 & at most 5 times"
   ]
  },
  {
   "cell_type": "code",
   "execution_count": null,
   "id": "80d52608",
   "metadata": {},
   "outputs": [],
   "source": []
  },
  {
   "cell_type": "code",
   "execution_count": null,
   "id": "ab0c1a90",
   "metadata": {},
   "outputs": [],
   "source": [
    "12. What do you mean by the \\d, \\w, and \\s shorthand character classes signify in regular expressions?"
   ]
  },
  {
   "cell_type": "code",
   "execution_count": null,
   "id": "16956d4d",
   "metadata": {},
   "outputs": [],
   "source": [
    "\\d --> This character means any digit character; functionally equivalent to [0-9] or [[:digit:]]\n",
    "\\w --> This character means any \"word\" character. That is, any alphanumeric character and its functionally equivalent to [_A-Za-z0-9] or [_[:alnum:]]\n",
    "\\s -- >This character means any white space character; space, new line, tab, non-breaking space, etc.; functionally equivalent to [[:space]]"
   ]
  },
  {
   "cell_type": "code",
   "execution_count": null,
   "id": "7f9edc40",
   "metadata": {},
   "outputs": [],
   "source": []
  },
  {
   "cell_type": "code",
   "execution_count": null,
   "id": "63bf1d2f",
   "metadata": {},
   "outputs": [],
   "source": [
    "13. What do means by \\D, \\W, and \\S shorthand character classes signify in regular expressions?"
   ]
  },
  {
   "cell_type": "code",
   "execution_count": null,
   "id": "b8f0bec6",
   "metadata": {},
   "outputs": [],
   "source": [
    "\\D -- >This character means any non-digit character; functionally equivalent to [^0-9] or [^[:digit:]]\n",
    "\\W -- >This character means any non-alphanumeric character; functionally equivalent to [^_A-Za-z0-9] or [^_[:alnum:]]\n",
    "\\S -- >This character means any non-whitespace character; anything other than space, newline, tab, non-breaking space, etc.; functionally equivalent to [^[: space]]"
   ]
  },
  {
   "cell_type": "code",
   "execution_count": null,
   "id": "d5e26432",
   "metadata": {},
   "outputs": [],
   "source": []
  },
  {
   "cell_type": "code",
   "execution_count": null,
   "id": "cd406686",
   "metadata": {},
   "outputs": [],
   "source": [
    "14. What is the difference between .*? and .*?"
   ]
  },
  {
   "cell_type": "code",
   "execution_count": null,
   "id": "70c3ad90",
   "metadata": {},
   "outputs": [],
   "source": [
    "The . performs a greedy match, and the .? performs a nongreedy match."
   ]
  },
  {
   "cell_type": "code",
   "execution_count": null,
   "id": "a87a9f4f",
   "metadata": {},
   "outputs": [],
   "source": []
  },
  {
   "cell_type": "code",
   "execution_count": null,
   "id": "d8e7b0ca",
   "metadata": {},
   "outputs": [],
   "source": [
    "15. What is the syntax for matching both numbers and lowercase letters with a character class?"
   ]
  },
  {
   "cell_type": "code",
   "execution_count": null,
   "id": "3c5e386d",
   "metadata": {},
   "outputs": [],
   "source": [
    " Either [0-9a-z] or [a-z0-9]."
   ]
  },
  {
   "cell_type": "code",
   "execution_count": null,
   "id": "a4b5ac09",
   "metadata": {},
   "outputs": [],
   "source": []
  },
  {
   "cell_type": "code",
   "execution_count": null,
   "id": "f793dbbe",
   "metadata": {},
   "outputs": [],
   "source": [
    "16. What is the procedure for making a normal expression in regax case insensitive?"
   ]
  },
  {
   "cell_type": "code",
   "execution_count": null,
   "id": "5bdbe7b3",
   "metadata": {},
   "outputs": [],
   "source": [
    "re.IGNORECASE allows for case-insensitive matching of the Regular Expression with the given string "
   ]
  },
  {
   "cell_type": "code",
   "execution_count": null,
   "id": "d6468688",
   "metadata": {},
   "outputs": [],
   "source": []
  },
  {
   "cell_type": "code",
   "execution_count": null,
   "id": "ff6372ab",
   "metadata": {},
   "outputs": [],
   "source": [
    "17. What does the . character normally match? What does it match if re.DOTALL is passed as 2nd argument in re.compile()?"
   ]
  },
  {
   "cell_type": "code",
   "execution_count": null,
   "id": "bd4eb468",
   "metadata": {},
   "outputs": [],
   "source": [
    "The dot character matches any single character.If re. DOTALL is passed as the second argument to re. compile(), then the dot will also match newline characters."
   ]
  },
  {
   "cell_type": "code",
   "execution_count": null,
   "id": "68d99020",
   "metadata": {},
   "outputs": [],
   "source": []
  },
  {
   "cell_type": "code",
   "execution_count": null,
   "id": "448a362b",
   "metadata": {},
   "outputs": [],
   "source": [
    "18. If numReg = re.compile(r'\\d+'), what will numRegex.sub('X', '11 drummers, 10 pipers, five rings, 4 hen') return?"
   ]
  },
  {
   "cell_type": "code",
   "execution_count": null,
   "id": "54773e4d",
   "metadata": {},
   "outputs": [],
   "source": [
    "'X drummers, X pipers, five rings, X hen'"
   ]
  },
  {
   "cell_type": "code",
   "execution_count": null,
   "id": "841455e7",
   "metadata": {},
   "outputs": [],
   "source": []
  },
  {
   "cell_type": "code",
   "execution_count": null,
   "id": "8d6245b2",
   "metadata": {},
   "outputs": [],
   "source": [
    "19. What does passing re.VERBOSE as the 2nd argument to re.compile() allow to do?"
   ]
  },
  {
   "cell_type": "code",
   "execution_count": null,
   "id": "276ec086",
   "metadata": {},
   "outputs": [],
   "source": [
    "add whitespace and comments to the string passed to re."
   ]
  },
  {
   "cell_type": "code",
   "execution_count": null,
   "id": "fdb69b33",
   "metadata": {},
   "outputs": [],
   "source": []
  },
  {
   "cell_type": "code",
   "execution_count": null,
   "id": "606d0fc5",
   "metadata": {},
   "outputs": [],
   "source": [
    "20. How would you write a regex that match a number with comma for every three digits? It must match the given following:\n",
    "'42'\n",
    "'1,234'\n",
    "'6,368,745'\n",
    "but not the following:\n",
    "'12,34,567' (which has only two digits between the commas)\n",
    "'1234' (which lacks commas)"
   ]
  },
  {
   "cell_type": "code",
   "execution_count": null,
   "id": "38b42941",
   "metadata": {},
   "outputs": [],
   "source": [
    "import re\n",
    "\n",
    "s = '42 1,234 6,368,745 12,34,567 1234'\n",
    "\n",
    "rgx = re.compile(',[0-9]{1,2},|[0-9]{4,}')\n",
    "nums = [x for x in s.split() if not rgx.search(x)]\n",
    "\n",
    "print (nums  )"
   ]
  },
  {
   "cell_type": "code",
   "execution_count": null,
   "id": "9767234f",
   "metadata": {},
   "outputs": [],
   "source": []
  },
  {
   "cell_type": "code",
   "execution_count": null,
   "id": "588d392e",
   "metadata": {},
   "outputs": [],
   "source": [
    "21. How would you write a regex that matches the full name of someone whose last name is Watanabe? You can assume that the first name that comes before it will always be one word that begins with a capital letter. The regex must match the following:\n",
    "'Haruto Watanabe'\n",
    "'Alice Watanabe'\n",
    "'RoboCop Watanabe'\n",
    "but not the following:\n",
    "'haruto Watanabe' (where the first name is not capitalized)\n",
    "'Mr. Watanabe' (where the preceding word has a nonletter character)\n",
    "'Watanabe' (which has no first name)\n",
    "'Haruto watanabe' (where Watanabe is not capitalized)"
   ]
  },
  {
   "cell_type": "code",
   "execution_count": null,
   "id": "7a9bcd74",
   "metadata": {},
   "outputs": [],
   "source": [
    "import re\n",
    "name_regex = re.compile(r'[A-Z](?:\\w)+\\sWatanabe')\n",
    "text = \"The regex must match the following: 'Haruto Watanabe' 'Alice Watanabe' 'RoboCop Watanabe' but not the following: 'haruto Watanabe' (where the first name is not capitalized) 'Mr. Watanabe' (where the preceding word has a nonletter character) 'Watanabe'(which has no first name) 'Haruto watanabe'.\"\n",
    "print(\"Result of using the same regex with findall (same text as in first search):\")\n",
    "\n",
    "all_matches = re.findall(name_regex, text)\n",
    "\n",
    "for i in all_matches:\n",
    "    print(i)"
   ]
  },
  {
   "cell_type": "code",
   "execution_count": null,
   "id": "d3d7ce2e",
   "metadata": {},
   "outputs": [],
   "source": []
  },
  {
   "cell_type": "code",
   "execution_count": null,
   "id": "554b3e3e",
   "metadata": {},
   "outputs": [],
   "source": [
    "22. How would you write a regex that matches a sentence where the first word is either Alice, Bob, or Carol; the second word is either eats, pets, or throws; the third word is apples, cats, or baseballs; and the sentence ends with a period? This regex should be case-insensitive. It must match the following:\n",
    "'Alice eats apples.'\n",
    "'Bob pets cats.'\n",
    "'Carol throws baseballs.'\n",
    "'Alice throws Apples.'\n",
    "'BOB EATS CATS.'\n",
    "but not the following:\n",
    "'RoboCop eats apples.'\n",
    "'ALICE THROWS FOOTBALLS.'\n",
    "'Carol eats 7 cats.'"
   ]
  },
  {
   "cell_type": "code",
   "execution_count": null,
   "id": "ecf469bf",
   "metadata": {},
   "outputs": [],
   "source": [
    "senRegex = re.compile('(Alice|Bob|Carol)\\s(eats|pets|throws)\\s(apples|cats|baseballs).', re.I|re.DOTALL)\n",
    "\n",
    "senRegex.findall('''Alice eats apples.'\n",
    "\n",
    "'Bob pets cats.'\n",
    "\n",
    "'Carol throws baseballs.'\n",
    "\n",
    "'Alice throws Apples.'\n",
    "\n",
    "'BOB EATS CATS.'\n",
    "\n",
    "but not the following:\n",
    "\n",
    "'Robocop eats apples.'\n",
    "\n",
    "'ALICE THROWS FOOTBALLS.'\n",
    "\n",
    "'Carol eats 7 cats.''')"
   ]
  },
  {
   "cell_type": "code",
   "execution_count": null,
   "id": "2137da46",
   "metadata": {},
   "outputs": [],
   "source": []
  },
  {
   "cell_type": "code",
   "execution_count": null,
   "id": "e6f06c54",
   "metadata": {},
   "outputs": [],
   "source": []
  }
 ],
 "metadata": {
  "kernelspec": {
   "display_name": "Python 3 (ipykernel)",
   "language": "python",
   "name": "python3"
  },
  "language_info": {
   "codemirror_mode": {
    "name": "ipython",
    "version": 3
   },
   "file_extension": ".py",
   "mimetype": "text/x-python",
   "name": "python",
   "nbconvert_exporter": "python",
   "pygments_lexer": "ipython3",
   "version": "3.9.7"
  }
 },
 "nbformat": 4,
 "nbformat_minor": 5
}

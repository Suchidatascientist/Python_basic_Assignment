{
 "cells": [
  {
   "cell_type": "markdown",
   "id": "11b1257b",
   "metadata": {},
   "source": [
    "1.What are the two values of the Boolean data type? How do you write them?"
   ]
  },
  {
   "cell_type": "code",
   "execution_count": null,
   "id": "20a9529a",
   "metadata": {},
   "outputs": [],
   "source": [
    "Boolean data types values are True and False\n",
    "bool([x]) used to evaluate the truth value of x"
   ]
  },
  {
   "cell_type": "code",
   "execution_count": null,
   "id": "c9fd3bfc",
   "metadata": {},
   "outputs": [],
   "source": []
  },
  {
   "cell_type": "markdown",
   "id": "e151c76d",
   "metadata": {},
   "source": [
    "2. What are the three different types of Boolean operators?"
   ]
  },
  {
   "cell_type": "code",
   "execution_count": null,
   "id": "c4c3d4bd",
   "metadata": {},
   "outputs": [],
   "source": [
    "AND ,OR ,NOT"
   ]
  },
  {
   "cell_type": "code",
   "execution_count": null,
   "id": "1152f625",
   "metadata": {},
   "outputs": [],
   "source": []
  },
  {
   "cell_type": "markdown",
   "id": "0e18b6de",
   "metadata": {},
   "source": [
    "3. Make a list of each Boolean operator's truth tables (i.e. every possible combination of Boolean values for the operator and what it evaluate )."
   ]
  },
  {
   "cell_type": "code",
   "execution_count": null,
   "id": "8d549c78",
   "metadata": {},
   "outputs": [],
   "source": [
    "Operator\tInput\tResult\n",
    "OR\tTrue\tTrue\tTrue\n",
    "OR\tTrue\tFalse\tTrue\n",
    "OR\tFalse\tTrue\tTrue\n",
    "OR\tFalse\tFalse\tFalse\n",
    "AND\tTrue\tTrue\tTrue\n",
    "AND\tTrue\tFalse\tFalse\n",
    "AND\tFalse\tTrue\tFalse\n",
    "AND\tFalse\tFalse\tFalse\n",
    "NOT\tTrue\t-\tFalse\n",
    "NOT\tFalse\t-\tTrue"
   ]
  },
  {
   "cell_type": "code",
   "execution_count": null,
   "id": "6959a457",
   "metadata": {},
   "outputs": [],
   "source": []
  },
  {
   "cell_type": "markdown",
   "id": "77d61c27",
   "metadata": {},
   "source": [
    "4. What are the values of the following expressions?\n",
    "(5 > 4) and (3 == 5)\n",
    "not (5 > 4)\n",
    "(5 > 4) or (3 == 5)\n",
    "not ((5 > 4) or (3 == 5))\n",
    "(True and True) and (True == False)\n",
    "(not False) or (not True)"
   ]
  },
  {
   "cell_type": "code",
   "execution_count": null,
   "id": "f2f8a199",
   "metadata": {},
   "outputs": [],
   "source": [
    "(5 > 4) and (3 == 5) ----->>> False\n",
    "not (5 > 4) ----->>> False\n",
    "(5 > 4) or (3 == 5) ----->>> True\n",
    "not ((5 > 4) or (3 == 5)) ----->>> False\n",
    "(True and True) and (True == False) ----->>> False\n",
    "(not False) or (not True) ----->>> True"
   ]
  },
  {
   "cell_type": "code",
   "execution_count": null,
   "id": "b7a082b8",
   "metadata": {},
   "outputs": [],
   "source": []
  },
  {
   "cell_type": "markdown",
   "id": "a8254f00",
   "metadata": {},
   "source": [
    "5. What are the six comparison operators?"
   ]
  },
  {
   "cell_type": "code",
   "execution_count": null,
   "id": "e6877794",
   "metadata": {},
   "outputs": [],
   "source": [
    "Operator\tName\n",
    "==\tEqual\n",
    "!=\tNot equal\n",
    ">\tGreater than\n",
    "<\tSmaller than\n",
    ">=\tGreater than or equal\n",
    "<=\tSmaller than or equal"
   ]
  },
  {
   "cell_type": "code",
   "execution_count": null,
   "id": "3a038b1c",
   "metadata": {},
   "outputs": [],
   "source": []
  },
  {
   "cell_type": "markdown",
   "id": "117c870a",
   "metadata": {},
   "source": [
    "6. How do you tell the difference between the equal to and assignment operators?Describe a condition and when you would use one."
   ]
  },
  {
   "cell_type": "code",
   "execution_count": null,
   "id": "a756aa36",
   "metadata": {},
   "outputs": [],
   "source": [
    "\"=\" operator used to assign the value on the right to variable on the left.\n",
    "\"==\" operator used to check whether two operands are equal or not\n",
    "\n",
    "To assign value to constant we use \"=\"(assignment) operator e.g.x=5\n",
    "To compare two values or constant we use \"==\"(equal to) operator e.g. x==y"
   ]
  },
  {
   "cell_type": "code",
   "execution_count": null,
   "id": "b3e88856",
   "metadata": {},
   "outputs": [],
   "source": []
  },
  {
   "cell_type": "markdown",
   "id": "0b274466",
   "metadata": {},
   "source": [
    "7. Identify the three blocks in this code:\n",
    "spam = 0\n",
    "if spam == 10:\n",
    "print('eggs')\n",
    "if spam > 5:\n",
    "print('bacon')\n",
    "else:\n",
    "print('ham')\n",
    "print('spam')\n",
    "print('spam')"
   ]
  },
  {
   "cell_type": "code",
   "execution_count": null,
   "id": "8044cd88",
   "metadata": {},
   "outputs": [],
   "source": [
    "1st block \n",
    "if spam == 10:\n",
    "print('eggs')\n",
    "\n",
    "2nd block\n",
    "if spam > 5:\n",
    "print('bacon')\n",
    "\n",
    "3rd block\n",
    "else:\n",
    "print('ham')\n",
    "print('spam')\n",
    "print('spam')"
   ]
  },
  {
   "cell_type": "code",
   "execution_count": null,
   "id": "fa34c87b",
   "metadata": {},
   "outputs": [],
   "source": []
  },
  {
   "cell_type": "markdown",
   "id": "5642818e",
   "metadata": {},
   "source": [
    "8. Write code that prints Hello if 1 is stored in spam, prints Howdy if 2 is stored in spam, and prints Greetings! if anything else is stored in spam."
   ]
  },
  {
   "cell_type": "code",
   "execution_count": null,
   "id": "a71a2336",
   "metadata": {},
   "outputs": [],
   "source": [
    "spam=input()\n",
    "if spam=='1':\n",
    "    print(\"Hello\")\n",
    "elif spam=='2':\n",
    "    print(\"Howdy\")\n",
    "else:\n",
    "    print(\"Greetings!\")"
   ]
  },
  {
   "cell_type": "code",
   "execution_count": null,
   "id": "2fa80941",
   "metadata": {},
   "outputs": [],
   "source": []
  },
  {
   "cell_type": "code",
   "execution_count": null,
   "id": "b712b9c3",
   "metadata": {},
   "outputs": [],
   "source": [
    "9.If your programme is stuck in an endless loop, what keys you’ll press?"
   ]
  },
  {
   "cell_type": "code",
   "execution_count": null,
   "id": "3d6ceb2f",
   "metadata": {},
   "outputs": [],
   "source": [
    "ctrl+C /break"
   ]
  },
  {
   "cell_type": "code",
   "execution_count": null,
   "id": "046ebc3f",
   "metadata": {},
   "outputs": [],
   "source": []
  },
  {
   "cell_type": "code",
   "execution_count": null,
   "id": "904cdedd",
   "metadata": {},
   "outputs": [],
   "source": [
    "10. How can you tell the difference between break and continue?"
   ]
  },
  {
   "cell_type": "code",
   "execution_count": null,
   "id": "7dec39d6",
   "metadata": {},
   "outputs": [],
   "source": [
    "break completely leaves the loop ,continue skip the current iteration and executes with next value in loop.\n"
   ]
  },
  {
   "cell_type": "code",
   "execution_count": null,
   "id": "53452d05",
   "metadata": {},
   "outputs": [],
   "source": []
  },
  {
   "cell_type": "code",
   "execution_count": null,
   "id": "b17c3bf7",
   "metadata": {},
   "outputs": [],
   "source": [
    "11. In a for loop, what is the difference between range(10), range(0, 10), and range(0, 10, 1)?"
   ]
  },
  {
   "cell_type": "code",
   "execution_count": null,
   "id": "0d32c4c4",
   "metadata": {},
   "outputs": [],
   "source": [
    "range(10) ----- > will get series of whole number starts with 0 and upto the but excluding number provided i.e.10\n",
    "range(0,10) ----- > start point 0 and stop point 10 so series will initiate from start point i.e.0 and will execute upto but exclusive of stop point\n",
    "range(0,10,1) ----- > get series with starting point 0 and will generate upto but excluding stop point(i.e.10) by taking step provided (i.e.1)"
   ]
  },
  {
   "cell_type": "code",
   "execution_count": null,
   "id": "5c23ef51",
   "metadata": {},
   "outputs": [],
   "source": []
  },
  {
   "cell_type": "code",
   "execution_count": null,
   "id": "46b17241",
   "metadata": {},
   "outputs": [],
   "source": [
    "12. Write a short program that prints the numbers 1 to 10 using a for loop. Then write an equivalent program that prints the numbers 1 to 10 using a while loop."
   ]
  },
  {
   "cell_type": "code",
   "execution_count": null,
   "id": "e9a42155",
   "metadata": {},
   "outputs": [],
   "source": [
    "#for looping\n",
    "for i in range(10):\n",
    "    print(i+1)\n",
    "    \n",
    "#while looping\n",
    "i=1\n",
    "while i<10:\n",
    "    print(i)\n",
    "    i=i+1\n",
    "    if i==10:\n",
    "        print(i)"
   ]
  },
  {
   "cell_type": "code",
   "execution_count": null,
   "id": "88fba134",
   "metadata": {},
   "outputs": [],
   "source": []
  },
  {
   "cell_type": "code",
   "execution_count": null,
   "id": "a8c2be1b",
   "metadata": {},
   "outputs": [],
   "source": [
    "13. If you had a function named bacon() inside a module named spam, how would you call it after importing spam?"
   ]
  },
  {
   "cell_type": "code",
   "execution_count": null,
   "id": "416823bc",
   "metadata": {},
   "outputs": [],
   "source": [
    "from spam import bacon"
   ]
  }
 ],
 "metadata": {
  "kernelspec": {
   "display_name": "Python 3 (ipykernel)",
   "language": "python",
   "name": "python3"
  },
  "language_info": {
   "codemirror_mode": {
    "name": "ipython",
    "version": 3
   },
   "file_extension": ".py",
   "mimetype": "text/x-python",
   "name": "python",
   "nbconvert_exporter": "python",
   "pygments_lexer": "ipython3",
   "version": "3.9.7"
  }
 },
 "nbformat": 4,
 "nbformat_minor": 5
}

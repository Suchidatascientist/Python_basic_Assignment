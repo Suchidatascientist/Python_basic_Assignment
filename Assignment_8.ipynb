{
 "cells": [
  {
   "cell_type": "code",
   "execution_count": null,
   "id": "94fe7f1b",
   "metadata": {},
   "outputs": [],
   "source": [
    "1. Is the Python Standard Library included with PyInputPlus?"
   ]
  },
  {
   "cell_type": "code",
   "execution_count": null,
   "id": "89d4b190",
   "metadata": {},
   "outputs": [],
   "source": [
    "PyInputPlus is not in the standard library "
   ]
  },
  {
   "cell_type": "code",
   "execution_count": null,
   "id": "2a5c6cf2",
   "metadata": {},
   "outputs": [],
   "source": []
  },
  {
   "cell_type": "code",
   "execution_count": null,
   "id": "3270b8c3",
   "metadata": {},
   "outputs": [],
   "source": [
    "2. Why is PyInputPlus commonly imported with import pyinputplus as pypi?"
   ]
  },
  {
   "cell_type": "code",
   "execution_count": null,
   "id": "13bc0d93",
   "metadata": {},
   "outputs": [],
   "source": [
    "so that we can enter a shorter name when calling the module's functions. "
   ]
  },
  {
   "cell_type": "code",
   "execution_count": null,
   "id": "36b98077",
   "metadata": {},
   "outputs": [],
   "source": []
  },
  {
   "cell_type": "code",
   "execution_count": null,
   "id": "7c60aac4",
   "metadata": {},
   "outputs": [],
   "source": [
    "3. How do you distinguish between inputInt() and inputFloat()?"
   ]
  },
  {
   "cell_type": "code",
   "execution_count": null,
   "id": "4dd64680",
   "metadata": {},
   "outputs": [],
   "source": [
    "inputInt() : Accepts an integer value ,inputFloat() : Accepts a floating-point numeric value"
   ]
  },
  {
   "cell_type": "code",
   "execution_count": null,
   "id": "b9811ea7",
   "metadata": {},
   "outputs": [],
   "source": []
  },
  {
   "cell_type": "code",
   "execution_count": null,
   "id": "daa82ace",
   "metadata": {},
   "outputs": [],
   "source": [
    "4. Using PyInputPlus, how do you ensure that the user enters a whole number between 0 and 99?"
   ]
  },
  {
   "cell_type": "code",
   "execution_count": null,
   "id": "b3ce32be",
   "metadata": {},
   "outputs": [],
   "source": [
    "Use the int() Function to Check if the Input Is an Integer in Python. The int() function can convert a given string integer value to an integer type. It raises an error if the desired value is not an integer and cannot be converted"
   ]
  },
  {
   "cell_type": "code",
   "execution_count": null,
   "id": "cda4840c",
   "metadata": {},
   "outputs": [],
   "source": []
  },
  {
   "cell_type": "code",
   "execution_count": null,
   "id": "6e4bff91",
   "metadata": {},
   "outputs": [],
   "source": [
    "5. What is transferred to the keyword arguments allowRegexes and blockRegexes?"
   ]
  },
  {
   "cell_type": "code",
   "execution_count": null,
   "id": "df4b9ccc",
   "metadata": {},
   "outputs": [],
   "source": [
    "allowRegexes and blockRegexes keyword arguments take a list of regular expression strings to determine what the PyInputPlus function will accept or reject as valid input."
   ]
  },
  {
   "cell_type": "code",
   "execution_count": null,
   "id": "43307c19",
   "metadata": {},
   "outputs": [],
   "source": []
  },
  {
   "cell_type": "code",
   "execution_count": null,
   "id": "9c9d54c7",
   "metadata": {},
   "outputs": [],
   "source": [
    "6. If a blank input is entered three times, what does inputStr(limit=3) do?"
   ]
  },
  {
   "cell_type": "code",
   "execution_count": null,
   "id": "62824729",
   "metadata": {},
   "outputs": [],
   "source": [
    "inputStr() raises a TimeoutException exception."
   ]
  },
  {
   "cell_type": "code",
   "execution_count": null,
   "id": "b6c635c1",
   "metadata": {},
   "outputs": [],
   "source": []
  },
  {
   "cell_type": "code",
   "execution_count": null,
   "id": "d7caedb9",
   "metadata": {},
   "outputs": [],
   "source": [
    "7. If blank input is entered three times, what does inputStr(limit=3, default='hello') do?"
   ]
  },
  {
   "cell_type": "code",
   "execution_count": null,
   "id": "81de6156",
   "metadata": {},
   "outputs": [],
   "source": [
    "It returns the value N/A "
   ]
  },
  {
   "cell_type": "code",
   "execution_count": null,
   "id": "02b0c9a3",
   "metadata": {},
   "outputs": [],
   "source": []
  },
  {
   "cell_type": "code",
   "execution_count": null,
   "id": "e8f2c300",
   "metadata": {},
   "outputs": [],
   "source": []
  }
 ],
 "metadata": {
  "kernelspec": {
   "display_name": "Python 3 (ipykernel)",
   "language": "python",
   "name": "python3"
  },
  "language_info": {
   "codemirror_mode": {
    "name": "ipython",
    "version": 3
   },
   "file_extension": ".py",
   "mimetype": "text/x-python",
   "name": "python",
   "nbconvert_exporter": "python",
   "pygments_lexer": "ipython3",
   "version": "3.9.7"
  }
 },
 "nbformat": 4,
 "nbformat_minor": 5
}

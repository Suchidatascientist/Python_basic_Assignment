{
 "cells": [
  {
   "cell_type": "code",
   "execution_count": null,
   "id": "36093342",
   "metadata": {},
   "outputs": [],
   "source": [
    "1.How many seconds are in an hour? Use the interactive interpreter as a calculator and multiply the number of seconds in a minute (60) by the number of minutes in an hour (also 60).\n",
    "sol. 60 "
   ]
  },
  {
   "cell_type": "code",
   "execution_count": null,
   "id": "339f57d5",
   "metadata": {},
   "outputs": [],
   "source": [
    "60*60\n",
    "3600"
   ]
  },
  {
   "cell_type": "code",
   "execution_count": null,
   "id": "edee2448",
   "metadata": {},
   "outputs": [],
   "source": []
  },
  {
   "cell_type": "code",
   "execution_count": null,
   "id": "6622bc08",
   "metadata": {},
   "outputs": [],
   "source": [
    "2. Assign the result from the previous task (seconds in an hour) to a variable called seconds_per_hour."
   ]
  },
  {
   "cell_type": "code",
   "execution_count": null,
   "id": "1b2117ae",
   "metadata": {},
   "outputs": [],
   "source": [
    "seconds_per_hour = 60 * 60\n",
    "seconds_per_hour\n",
    "3600"
   ]
  },
  {
   "cell_type": "code",
   "execution_count": null,
   "id": "04383d62",
   "metadata": {},
   "outputs": [],
   "source": []
  },
  {
   "cell_type": "code",
   "execution_count": null,
   "id": "949281be",
   "metadata": {},
   "outputs": [],
   "source": [
    "3. How many seconds do you think there are in a day? Make use of the variables seconds per hour and minutes per hour."
   ]
  },
  {
   "cell_type": "code",
   "execution_count": null,
   "id": "aca15632",
   "metadata": {},
   "outputs": [],
   "source": [
    "24 * seconds_per_hour\n",
    "86400"
   ]
  },
  {
   "cell_type": "code",
   "execution_count": null,
   "id": "bd7e7c6d",
   "metadata": {},
   "outputs": [],
   "source": []
  },
  {
   "cell_type": "code",
   "execution_count": null,
   "id": "5ec71a54",
   "metadata": {},
   "outputs": [],
   "source": [
    "4. Calculate seconds per day again, but this time save the result in a variable called seconds_per_day"
   ]
  },
  {
   "cell_type": "code",
   "execution_count": null,
   "id": "72a0bc9b",
   "metadata": {},
   "outputs": [],
   "source": [
    "seconds_per_day = 24 * seconds_per_hour\n",
    "seconds_per_day\n",
    "86400"
   ]
  },
  {
   "cell_type": "code",
   "execution_count": null,
   "id": "2ee10180",
   "metadata": {},
   "outputs": [],
   "source": []
  },
  {
   "cell_type": "code",
   "execution_count": null,
   "id": "cc80c241",
   "metadata": {},
   "outputs": [],
   "source": [
    "5. Divide seconds_per_day by seconds_per_hour. Use floating-point (/) division."
   ]
  },
  {
   "cell_type": "code",
   "execution_count": null,
   "id": "51699152",
   "metadata": {},
   "outputs": [],
   "source": [
    "seconds_per_day / seconds_per_hour\n",
    "24.0"
   ]
  },
  {
   "cell_type": "code",
   "execution_count": null,
   "id": "5cafbcf9",
   "metadata": {},
   "outputs": [],
   "source": []
  },
  {
   "cell_type": "code",
   "execution_count": null,
   "id": "05ebd2aa",
   "metadata": {},
   "outputs": [],
   "source": [
    "6. Divide seconds_per_day by seconds_per_hour, using integer (//) division. Did this number agree with the floating-point value from the previous question, aside from the final .0?"
   ]
  },
  {
   "cell_type": "code",
   "execution_count": null,
   "id": "eeba8639",
   "metadata": {},
   "outputs": [],
   "source": [
    "seconds_per_day // seconds_per_hour\n",
    "24"
   ]
  },
  {
   "cell_type": "code",
   "execution_count": null,
   "id": "660a898e",
   "metadata": {},
   "outputs": [],
   "source": []
  },
  {
   "cell_type": "code",
   "execution_count": null,
   "id": "b0654752",
   "metadata": {},
   "outputs": [],
   "source": [
    "7. Write a generator, genPrimes, that returns the sequence of prime numbers on successive calls to its next() method: 2, 3, 5, 7, 11, ..."
   ]
  },
  {
   "cell_type": "code",
   "execution_count": null,
   "id": "8ba10e4c",
   "metadata": {},
   "outputs": [],
   "source": [
    "def genPrimes(n):\n",
    "    prime_lst = []\n",
    "    \n",
    "    num = 2\n",
    "    while num <= n:\n",
    "        for i in range(2, num):\n",
    "            if num % i == 0:\n",
    "                break\n",
    "        else:\n",
    "            # prime_lst.append(num)\n",
    "            yield num\n",
    "        num += 1\n",
    "        \n",
    "        \n",
    "prime_numbers = genPrimes(19)\n",
    "print(next(prime_numbers))\n",
    "print(next(prime_numbers))\n",
    "print(next(prime_numbers))\n",
    "print(next(prime_numbers))\n",
    "print(next(prime_numbers))\n",
    "print(next(prime_numbers))\n",
    "print(next(prime_numbers))\n",
    "2\n",
    "3\n",
    "5\n",
    "7\n",
    "11\n",
    "13\n",
    "17\n"
   ]
  }
 ],
 "metadata": {
  "kernelspec": {
   "display_name": "Python 3 (ipykernel)",
   "language": "python",
   "name": "python3"
  },
  "language_info": {
   "codemirror_mode": {
    "name": "ipython",
    "version": 3
   },
   "file_extension": ".py",
   "mimetype": "text/x-python",
   "name": "python",
   "nbconvert_exporter": "python",
   "pygments_lexer": "ipython3",
   "version": "3.9.7"
  }
 },
 "nbformat": 4,
 "nbformat_minor": 5
}
